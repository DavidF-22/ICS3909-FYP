{
 "cells": [
  {
   "cell_type": "code",
   "execution_count": 6,
   "metadata": {},
   "outputs": [],
   "source": [
    "import sys\n",
    "sys.path.append('../')\n",
    "\n",
    "# imports\n",
    "import pandas as pd\n",
    "import matplotlib.pyplot as plt\n",
    "from tensorflow import keras as k\n",
    "from tensorflow.keras import layers, models\n",
    "from tensorflow.keras.utils import register_keras_serializable\n",
    "from tensorflow.keras.optimizers import Adam\n",
    "from tensorflow.keras.regularizers import L2\n",
    "from sklearn.model_selection import train_test_split\n",
    "from sklearn.metrics import roc_auc_score\n",
    "from encoder.binding_2D_matrix_encoder import binding_encoding\n",
    "# from miRBench.encoder import miRBindEncoder\n",
    "\n",
    "\n",
    "\n",
    "# parameters\n",
    "training_file_path = '../datasets/training/train_set_1_20_CLASH2013_paper.tsv'\n",
    "\n",
    "alphabet = {\"AT\": 1., \"TA\": 1., \"GC\": 1., \"CG\": 1., \"AU\": 1., \"UA\": 1.}\n",
    "input_shape = (50, 20, 1)  # shape of the input image\n",
    "learning_rate = 0.001  # learning rate\n",
    "epochs = 20  # number of epochs/dataset iterations\n",
    "batch_size = 32  # batch size\n",
    "reg_factor = 0.01  # regularization factor\n",
    "dropout_rate = 0.5  # dropout rate"
   ]
  },
  {
   "cell_type": "markdown",
   "metadata": {},
   "source": [
    "#### ResBlock Class and Building ResNet function"
   ]
  },
  {
   "cell_type": "code",
   "execution_count": 8,
   "metadata": {},
   "outputs": [],
   "source": [
    "# defining a custom Keras layer which inturn implements a residual block\n",
    "@register_keras_serializable()\n",
    "class ResBlock(layers.Layer):\n",
    "    \"\"\"\n",
    "    Defines a Residual block based on the original ResNet paper.\n",
    "    The block either maintains the input dimensions or downsamples based on the specified parameters.\n",
    "    \"\"\"\n",
    "\n",
    "    def __init__(self, downsample=False, filters=16, kernel_size=3):\n",
    "        \"\"\"\n",
    "        Initializes the residual block with optional downsampling.\n",
    "        \n",
    "        Parameters:\n",
    "        - downsample: Boolean, whether to downsample the input (using stride of 2)\n",
    "        - filters: Number of filters for the Conv2D layers\n",
    "        - kernel_size: Size of the convolution kernel\n",
    "        \"\"\"\n",
    "        # calling the parent class constructor\n",
    "        super(ResBlock, self).__init__()\n",
    "\n",
    "        # parameters for the residual block\n",
    "        self.downsample = downsample\n",
    "        self.filters = filters\n",
    "        self.kernel_size = kernel_size\n",
    "\n",
    "        # initialize first convolution layer, with stride 1 or 2 depending on downsampling\n",
    "        self.conv1 = layers.Conv2D(kernel_size=self.kernel_size,\n",
    "                                   strides=(1 if not self.downsample else 2),\n",
    "                                   filters=self.filters,\n",
    "                                   padding=\"same\",\n",
    "                                   kernel_regularizer=L2(reg_factor))\n",
    "        self.activation1 = layers.ReLU()  # activation function after first convolution\n",
    "        self.batch_norm1 = layers.BatchNormalization()  # batch normalization after first convolution\n",
    "        \n",
    "        # initialize second convolution layer with stride 1 (no downsampling here)\n",
    "        self.conv2 = layers.Conv2D(kernel_size=self.kernel_size,\n",
    "                                   strides=1,\n",
    "                                   filters=self.filters,\n",
    "                                   padding=\"same\",\n",
    "                                   kernel_regularizer=L2(reg_factor))\n",
    "\n",
    "        # third convolution if downsampling is needed to match input dimensions\n",
    "        if self.downsample:\n",
    "          self.conv3 = layers.Conv2D(kernel_size=1,\n",
    "                                     strides=2,\n",
    "                                     filters=self.filters,\n",
    "                                     padding=\"same\",\n",
    "                                     kernel_regularizer=L2(reg_factor))\n",
    "\n",
    "        self.activation2 = layers.ReLU()  # activation after second convolution\n",
    "        self.batch_norm2 = layers.BatchNormalization()  # batch normalization after second convolution\n",
    "\n",
    "    def call(self, inputs):\n",
    "        \"\"\"\n",
    "        Forward pass for the residual block. Applies the convolutions, activation, and adds the skip connection.\n",
    "\n",
    "        Parameters:\n",
    "        - inputs: Input tensor\n",
    "\n",
    "        Returns:\n",
    "        - Tensor after applying the residual block transformation\n",
    "        \"\"\"\n",
    "        # first convolution, activation, and batch normalization\n",
    "        x = self.conv1(inputs)\n",
    "        x = self.activation1(x)\n",
    "        x = self.batch_norm1(x)\n",
    "        \n",
    "        # second convolution (no downsampling here)\n",
    "        x = self.conv2(x)\n",
    "\n",
    "        # adjust input dimensions if downsampling\n",
    "        if self.downsample:\n",
    "            inputs = self.conv3(inputs)\n",
    "\n",
    "        # add the input (skip connection) to the output of the convolutions\n",
    "        x = layers.Add()([inputs, x])\n",
    "\n",
    "        # final activation and batch normalization\n",
    "        x = self.activation2(x)\n",
    "        x = self.batch_norm2(x)\n",
    "\n",
    "        return x\n",
    "\n",
    "    def get_config(self):\n",
    "        \"\"\"\n",
    "        Returns the configuration of the residual block (required for saving and loading the model).\n",
    "        \"\"\"\n",
    "        return {'filters': self.filters, 'downsample': self.downsample, 'kernel_size': self.kernel_size}\n",
    "    \n",
    "# define the ResNet model\n",
    "def build_resnet(input_shape):\n",
    "    \"\"\"\n",
    "    Builds a simple ResNet model using custom residual blocks.\n",
    "    \"\"\"\n",
    "    inputs = layers.Input(shape=input_shape)\n",
    "\n",
    "    # initial Conv Layer\n",
    "    x = layers.Conv2D(64, kernel_size=(3, 3), padding='same', kernel_regularizer=L2(reg_factor))(inputs)\n",
    "    x = layers.ReLU()(x)\n",
    "    x = layers.BatchNormalization()(x)\n",
    "\n",
    "    # add ResBlocks\n",
    "    x = ResBlock(filters=64, downsample=False)(x)\n",
    "    x = ResBlock(filters=64, downsample=False)(x)\n",
    "\n",
    "    # flatten and add dense layers\n",
    "    x = layers.Flatten()(x)\n",
    "    x = layers.Dense(512, activation='relu', kernel_regularizer=L2(reg_factor))(x)\n",
    "    x = layers.Dropout(dropout_rate)(x)  # Dropout layer\n",
    "    x = layers.Dense(1, activation='sigmoid', kernel_regularizer=L2(reg_factor))(x)  # binary classification (0 or 1)\n",
    "\n",
    "    # build model\n",
    "    model = models.Model(inputs, x)\n",
    "    # compile the model\n",
    "    model.compile(optimizer=Adam(learning_rate=learning_rate), loss='binary_crossentropy',metrics=['accuracy'])\n",
    "    # output model summary\n",
    "    model.summary()\n",
    "    \n",
    "    return model"
   ]
  },
  {
   "cell_type": "markdown",
   "metadata": {},
   "source": [
    "#### Data Encoding and Building Model"
   ]
  },
  {
   "cell_type": "code",
   "execution_count": 10,
   "metadata": {},
   "outputs": [
    {
     "name": "stdout",
     "output_type": "stream",
     "text": [
      "----- <Loading Training Dataset> -----\n",
      "----- <Dataset Loaded Successfully> -----\n",
      "\n",
      "Training Dataset shape: (323232, 3)\n",
      "First few rows of the dataset:\n",
      "                  miRNA                                               gene  \\\n",
      "0  TGTAAACATCCTCGACTGGA  GTCGAGAAGTCAACGACTCAATGAAGAATTCCACTTATGGCGTGAA...   \n",
      "1  TGAGACCTCTGGGTTCTGAG  GACCTCAGAGCTCCAGGATCATCAGTAAATTTGTCATGTTATATAT...   \n",
      "2  GAGGGTTGGGTGGAGGCTCT  TGCCATAATGAACCGTCCAGCCCCTGTGGAGATCTCCTATGAGAAC...   \n",
      "3  CAAAGTGCTTACAGTGCAGG  CACCAGAATTGCCAAAGCACATATATAATAAATTAGATAAAGGGCA...   \n",
      "4  TTAGGGCCCTGGCTCCATCT  AGCCAAGTGGAGAAGGGTTCCTATCCCTGGCAGGTATCTCTGAAAC...   \n",
      "\n",
      "   label  \n",
      "0      1  \n",
      "1      1  \n",
      "2      1  \n",
      "3      1  \n",
      "4      1  \n",
      "\n",
      "Size of training set: 290908\n",
      "Size of validation set: 32324\n",
      "\n",
      "----- <Encoding Data> -----\n",
      "----- <Training Data Encoded Successfully> -----\n",
      "----- <Validation Data Encoded Successfully> -----\n",
      "----- <Successfully Encoded Data> -----\n",
      "\n",
      "----- <Building Model> -----\n"
     ]
    },
    {
     "data": {
      "text/html": [
       "<pre style=\"white-space:pre;overflow-x:auto;line-height:normal;font-family:Menlo,'DejaVu Sans Mono',consolas,'Courier New',monospace\"><span style=\"font-weight: bold\">Model: \"functional_1\"</span>\n",
       "</pre>\n"
      ],
      "text/plain": [
       "\u001b[1mModel: \"functional_1\"\u001b[0m\n"
      ]
     },
     "metadata": {},
     "output_type": "display_data"
    },
    {
     "data": {
      "text/html": [
       "<pre style=\"white-space:pre;overflow-x:auto;line-height:normal;font-family:Menlo,'DejaVu Sans Mono',consolas,'Courier New',monospace\">┏━━━━━━━━━━━━━━━━━━━━━━━━━━━━━━━━━┳━━━━━━━━━━━━━━━━━━━━━━━━┳━━━━━━━━━━━━━━━┓\n",
       "┃<span style=\"font-weight: bold\"> Layer (type)                    </span>┃<span style=\"font-weight: bold\"> Output Shape           </span>┃<span style=\"font-weight: bold\">       Param # </span>┃\n",
       "┡━━━━━━━━━━━━━━━━━━━━━━━━━━━━━━━━━╇━━━━━━━━━━━━━━━━━━━━━━━━╇━━━━━━━━━━━━━━━┩\n",
       "│ input_layer_1 (<span style=\"color: #0087ff; text-decoration-color: #0087ff\">InputLayer</span>)      │ (<span style=\"color: #00d7ff; text-decoration-color: #00d7ff\">None</span>, <span style=\"color: #00af00; text-decoration-color: #00af00\">50</span>, <span style=\"color: #00af00; text-decoration-color: #00af00\">20</span>, <span style=\"color: #00af00; text-decoration-color: #00af00\">1</span>)      │             <span style=\"color: #00af00; text-decoration-color: #00af00\">0</span> │\n",
       "├─────────────────────────────────┼────────────────────────┼───────────────┤\n",
       "│ conv2d_5 (<span style=\"color: #0087ff; text-decoration-color: #0087ff\">Conv2D</span>)               │ (<span style=\"color: #00d7ff; text-decoration-color: #00d7ff\">None</span>, <span style=\"color: #00af00; text-decoration-color: #00af00\">50</span>, <span style=\"color: #00af00; text-decoration-color: #00af00\">20</span>, <span style=\"color: #00af00; text-decoration-color: #00af00\">64</span>)     │           <span style=\"color: #00af00; text-decoration-color: #00af00\">640</span> │\n",
       "├─────────────────────────────────┼────────────────────────┼───────────────┤\n",
       "│ re_lu_5 (<span style=\"color: #0087ff; text-decoration-color: #0087ff\">ReLU</span>)                  │ (<span style=\"color: #00d7ff; text-decoration-color: #00d7ff\">None</span>, <span style=\"color: #00af00; text-decoration-color: #00af00\">50</span>, <span style=\"color: #00af00; text-decoration-color: #00af00\">20</span>, <span style=\"color: #00af00; text-decoration-color: #00af00\">64</span>)     │             <span style=\"color: #00af00; text-decoration-color: #00af00\">0</span> │\n",
       "├─────────────────────────────────┼────────────────────────┼───────────────┤\n",
       "│ batch_normalization_5           │ (<span style=\"color: #00d7ff; text-decoration-color: #00d7ff\">None</span>, <span style=\"color: #00af00; text-decoration-color: #00af00\">50</span>, <span style=\"color: #00af00; text-decoration-color: #00af00\">20</span>, <span style=\"color: #00af00; text-decoration-color: #00af00\">64</span>)     │           <span style=\"color: #00af00; text-decoration-color: #00af00\">256</span> │\n",
       "│ (<span style=\"color: #0087ff; text-decoration-color: #0087ff\">BatchNormalization</span>)            │                        │               │\n",
       "├─────────────────────────────────┼────────────────────────┼───────────────┤\n",
       "│ res_block_2 (<span style=\"color: #0087ff; text-decoration-color: #0087ff\">ResBlock</span>)          │ (<span style=\"color: #00d7ff; text-decoration-color: #00d7ff\">None</span>, <span style=\"color: #00af00; text-decoration-color: #00af00\">50</span>, <span style=\"color: #00af00; text-decoration-color: #00af00\">20</span>, <span style=\"color: #00af00; text-decoration-color: #00af00\">64</span>)     │        <span style=\"color: #00af00; text-decoration-color: #00af00\">74,368</span> │\n",
       "├─────────────────────────────────┼────────────────────────┼───────────────┤\n",
       "│ res_block_3 (<span style=\"color: #0087ff; text-decoration-color: #0087ff\">ResBlock</span>)          │ (<span style=\"color: #00d7ff; text-decoration-color: #00d7ff\">None</span>, <span style=\"color: #00af00; text-decoration-color: #00af00\">50</span>, <span style=\"color: #00af00; text-decoration-color: #00af00\">20</span>, <span style=\"color: #00af00; text-decoration-color: #00af00\">64</span>)     │        <span style=\"color: #00af00; text-decoration-color: #00af00\">74,368</span> │\n",
       "├─────────────────────────────────┼────────────────────────┼───────────────┤\n",
       "│ flatten_1 (<span style=\"color: #0087ff; text-decoration-color: #0087ff\">Flatten</span>)             │ (<span style=\"color: #00d7ff; text-decoration-color: #00d7ff\">None</span>, <span style=\"color: #00af00; text-decoration-color: #00af00\">64000</span>)          │             <span style=\"color: #00af00; text-decoration-color: #00af00\">0</span> │\n",
       "├─────────────────────────────────┼────────────────────────┼───────────────┤\n",
       "│ dense_2 (<span style=\"color: #0087ff; text-decoration-color: #0087ff\">Dense</span>)                 │ (<span style=\"color: #00d7ff; text-decoration-color: #00d7ff\">None</span>, <span style=\"color: #00af00; text-decoration-color: #00af00\">512</span>)            │    <span style=\"color: #00af00; text-decoration-color: #00af00\">32,768,512</span> │\n",
       "├─────────────────────────────────┼────────────────────────┼───────────────┤\n",
       "│ dropout_1 (<span style=\"color: #0087ff; text-decoration-color: #0087ff\">Dropout</span>)             │ (<span style=\"color: #00d7ff; text-decoration-color: #00d7ff\">None</span>, <span style=\"color: #00af00; text-decoration-color: #00af00\">512</span>)            │             <span style=\"color: #00af00; text-decoration-color: #00af00\">0</span> │\n",
       "├─────────────────────────────────┼────────────────────────┼───────────────┤\n",
       "│ dense_3 (<span style=\"color: #0087ff; text-decoration-color: #0087ff\">Dense</span>)                 │ (<span style=\"color: #00d7ff; text-decoration-color: #00d7ff\">None</span>, <span style=\"color: #00af00; text-decoration-color: #00af00\">1</span>)              │           <span style=\"color: #00af00; text-decoration-color: #00af00\">513</span> │\n",
       "└─────────────────────────────────┴────────────────────────┴───────────────┘\n",
       "</pre>\n"
      ],
      "text/plain": [
       "┏━━━━━━━━━━━━━━━━━━━━━━━━━━━━━━━━━┳━━━━━━━━━━━━━━━━━━━━━━━━┳━━━━━━━━━━━━━━━┓\n",
       "┃\u001b[1m \u001b[0m\u001b[1mLayer (type)                   \u001b[0m\u001b[1m \u001b[0m┃\u001b[1m \u001b[0m\u001b[1mOutput Shape          \u001b[0m\u001b[1m \u001b[0m┃\u001b[1m \u001b[0m\u001b[1m      Param #\u001b[0m\u001b[1m \u001b[0m┃\n",
       "┡━━━━━━━━━━━━━━━━━━━━━━━━━━━━━━━━━╇━━━━━━━━━━━━━━━━━━━━━━━━╇━━━━━━━━━━━━━━━┩\n",
       "│ input_layer_1 (\u001b[38;5;33mInputLayer\u001b[0m)      │ (\u001b[38;5;45mNone\u001b[0m, \u001b[38;5;34m50\u001b[0m, \u001b[38;5;34m20\u001b[0m, \u001b[38;5;34m1\u001b[0m)      │             \u001b[38;5;34m0\u001b[0m │\n",
       "├─────────────────────────────────┼────────────────────────┼───────────────┤\n",
       "│ conv2d_5 (\u001b[38;5;33mConv2D\u001b[0m)               │ (\u001b[38;5;45mNone\u001b[0m, \u001b[38;5;34m50\u001b[0m, \u001b[38;5;34m20\u001b[0m, \u001b[38;5;34m64\u001b[0m)     │           \u001b[38;5;34m640\u001b[0m │\n",
       "├─────────────────────────────────┼────────────────────────┼───────────────┤\n",
       "│ re_lu_5 (\u001b[38;5;33mReLU\u001b[0m)                  │ (\u001b[38;5;45mNone\u001b[0m, \u001b[38;5;34m50\u001b[0m, \u001b[38;5;34m20\u001b[0m, \u001b[38;5;34m64\u001b[0m)     │             \u001b[38;5;34m0\u001b[0m │\n",
       "├─────────────────────────────────┼────────────────────────┼───────────────┤\n",
       "│ batch_normalization_5           │ (\u001b[38;5;45mNone\u001b[0m, \u001b[38;5;34m50\u001b[0m, \u001b[38;5;34m20\u001b[0m, \u001b[38;5;34m64\u001b[0m)     │           \u001b[38;5;34m256\u001b[0m │\n",
       "│ (\u001b[38;5;33mBatchNormalization\u001b[0m)            │                        │               │\n",
       "├─────────────────────────────────┼────────────────────────┼───────────────┤\n",
       "│ res_block_2 (\u001b[38;5;33mResBlock\u001b[0m)          │ (\u001b[38;5;45mNone\u001b[0m, \u001b[38;5;34m50\u001b[0m, \u001b[38;5;34m20\u001b[0m, \u001b[38;5;34m64\u001b[0m)     │        \u001b[38;5;34m74,368\u001b[0m │\n",
       "├─────────────────────────────────┼────────────────────────┼───────────────┤\n",
       "│ res_block_3 (\u001b[38;5;33mResBlock\u001b[0m)          │ (\u001b[38;5;45mNone\u001b[0m, \u001b[38;5;34m50\u001b[0m, \u001b[38;5;34m20\u001b[0m, \u001b[38;5;34m64\u001b[0m)     │        \u001b[38;5;34m74,368\u001b[0m │\n",
       "├─────────────────────────────────┼────────────────────────┼───────────────┤\n",
       "│ flatten_1 (\u001b[38;5;33mFlatten\u001b[0m)             │ (\u001b[38;5;45mNone\u001b[0m, \u001b[38;5;34m64000\u001b[0m)          │             \u001b[38;5;34m0\u001b[0m │\n",
       "├─────────────────────────────────┼────────────────────────┼───────────────┤\n",
       "│ dense_2 (\u001b[38;5;33mDense\u001b[0m)                 │ (\u001b[38;5;45mNone\u001b[0m, \u001b[38;5;34m512\u001b[0m)            │    \u001b[38;5;34m32,768,512\u001b[0m │\n",
       "├─────────────────────────────────┼────────────────────────┼───────────────┤\n",
       "│ dropout_1 (\u001b[38;5;33mDropout\u001b[0m)             │ (\u001b[38;5;45mNone\u001b[0m, \u001b[38;5;34m512\u001b[0m)            │             \u001b[38;5;34m0\u001b[0m │\n",
       "├─────────────────────────────────┼────────────────────────┼───────────────┤\n",
       "│ dense_3 (\u001b[38;5;33mDense\u001b[0m)                 │ (\u001b[38;5;45mNone\u001b[0m, \u001b[38;5;34m1\u001b[0m)              │           \u001b[38;5;34m513\u001b[0m │\n",
       "└─────────────────────────────────┴────────────────────────┴───────────────┘\n"
      ]
     },
     "metadata": {},
     "output_type": "display_data"
    },
    {
     "data": {
      "text/html": [
       "<pre style=\"white-space:pre;overflow-x:auto;line-height:normal;font-family:Menlo,'DejaVu Sans Mono',consolas,'Courier New',monospace\"><span style=\"font-weight: bold\"> Total params: </span><span style=\"color: #00af00; text-decoration-color: #00af00\">32,918,657</span> (125.57 MB)\n",
       "</pre>\n"
      ],
      "text/plain": [
       "\u001b[1m Total params: \u001b[0m\u001b[38;5;34m32,918,657\u001b[0m (125.57 MB)\n"
      ]
     },
     "metadata": {},
     "output_type": "display_data"
    },
    {
     "data": {
      "text/html": [
       "<pre style=\"white-space:pre;overflow-x:auto;line-height:normal;font-family:Menlo,'DejaVu Sans Mono',consolas,'Courier New',monospace\"><span style=\"font-weight: bold\"> Trainable params: </span><span style=\"color: #00af00; text-decoration-color: #00af00\">32,918,017</span> (125.57 MB)\n",
       "</pre>\n"
      ],
      "text/plain": [
       "\u001b[1m Trainable params: \u001b[0m\u001b[38;5;34m32,918,017\u001b[0m (125.57 MB)\n"
      ]
     },
     "metadata": {},
     "output_type": "display_data"
    },
    {
     "data": {
      "text/html": [
       "<pre style=\"white-space:pre;overflow-x:auto;line-height:normal;font-family:Menlo,'DejaVu Sans Mono',consolas,'Courier New',monospace\"><span style=\"font-weight: bold\"> Non-trainable params: </span><span style=\"color: #00af00; text-decoration-color: #00af00\">640</span> (2.50 KB)\n",
       "</pre>\n"
      ],
      "text/plain": [
       "\u001b[1m Non-trainable params: \u001b[0m\u001b[38;5;34m640\u001b[0m (2.50 KB)\n"
      ]
     },
     "metadata": {},
     "output_type": "display_data"
    },
    {
     "name": "stdout",
     "output_type": "stream",
     "text": [
      "----- <Model Built Successfully> -----\n",
      "\n"
     ]
    }
   ],
   "source": [
    "# encode the data using your binding_2D_matrix_encoder's binding_encoding function\n",
    "def encode_dataset(data, rna_type):\n",
    "    # use the function from the binding_2D_matrix_encoder module\n",
    "    return binding_encoding(data, rna_type, alphabet=alphabet)\n",
    "\n",
    "# load the training dataset\n",
    "print(\"----- <Loading Training Dataset> -----\")\n",
    "df_train = pd.read_csv(training_file_path, sep='\\t')\n",
    "print(\"----- <Dataset Loaded Successfully> -----\\n\")\n",
    "\n",
    "# print the dataset shape and first few rows\n",
    "print(f\"Training Dataset shape: {df_train.shape}\")\n",
    "print(f\"First few rows of the dataset:\\n{df_train.head()}\\n\")\n",
    "\n",
    "# Split df_train into actual training and validation sets\n",
    "training_data, validation_data = train_test_split(df_train, test_size=0.1, random_state=42)\n",
    "print(f\"Size of training set: {len(training_data)}\")\n",
    "print(f\"Size of validation set: {len(validation_data)}\\n\")\n",
    "\n",
    "print(\"----- <Encoding Data> -----\")\n",
    "encoded_training_data, training_labels = encode_dataset(training_data, \"miRNA\")\n",
    "print(\"----- <Training Data Encoded Successfully> -----\")\n",
    "encoded_validation_data, validation_labels = encode_dataset(validation_data, \"miRNA\")\n",
    "print(\"----- <Validation Data Encoded Successfully> -----\")\n",
    "print(\"----- <Successfully Encoded Data> -----\\n\")\n",
    "'''Displaying the encoded data'''\n",
    "# print(f\"Encoded training data shape: {encoded_training_data.shape}\")\n",
    "# print(f\"Encoded validation data shape: {encoded_validation_data.shape}\\n\")\n",
    "# print(f\"Encoded testing data shape: {encoded_testing_data.shape}\")\n",
    "# print(f\"First encoded training example:\\n{encoded_training_data[0]}\")\n",
    "# print(f\"First training label: {training_labels[0]}\\n\")\n",
    "# print(f\"First encoded testing example:\\n{encoded_testing_data[0]}\")\n",
    "\n",
    "# build the ResNet model\n",
    "input_shape = encoded_training_data.shape[1:]  # assuming the encoded data is 4D (samples, height, width, channels)\n",
    "print(\"----- <Building Model> -----\")\n",
    "model = build_resnet(input_shape)\n",
    "print(\"----- <Model Built Successfully> -----\\n\")"
   ]
  },
  {
   "cell_type": "markdown",
   "metadata": {},
   "source": [
    "#### Training Model"
   ]
  },
  {
   "cell_type": "code",
   "execution_count": null,
   "metadata": {},
   "outputs": [
    {
     "name": "stdout",
     "output_type": "stream",
     "text": [
      "----- <Training Model> -----\n"
     ]
    },
    {
     "name": "stdout",
     "output_type": "stream",
     "text": [
      "Epoch 1/20\n",
      "\u001b[1m9091/9091\u001b[0m \u001b[32m━━━━━━━━━━━━━━━━━━━━\u001b[0m\u001b[37m\u001b[0m \u001b[1m126s\u001b[0m 13ms/step - accuracy: 0.9475 - loss: 2.0290 - val_accuracy: 0.9549 - val_loss: 0.2765\n",
      "Epoch 2/20\n",
      "\u001b[1m9091/9091\u001b[0m \u001b[32m━━━━━━━━━━━━━━━━━━━━\u001b[0m\u001b[37m\u001b[0m \u001b[1m134s\u001b[0m 15ms/step - accuracy: 0.9544 - loss: 0.2351 - val_accuracy: 0.9534 - val_loss: 0.2101\n",
      "Epoch 3/20\n",
      "\u001b[1m9091/9091\u001b[0m \u001b[32m━━━━━━━━━━━━━━━━━━━━\u001b[0m\u001b[37m\u001b[0m \u001b[1m153s\u001b[0m 17ms/step - accuracy: 0.9557 - loss: 0.2087 - val_accuracy: 0.9582 - val_loss: 0.2027\n",
      "Epoch 4/20\n",
      "\u001b[1m9091/9091\u001b[0m \u001b[32m━━━━━━━━━━━━━━━━━━━━\u001b[0m\u001b[37m\u001b[0m \u001b[1m173s\u001b[0m 19ms/step - accuracy: 0.9564 - loss: 0.2088 - val_accuracy: 0.9561 - val_loss: 0.2030\n",
      "Epoch 5/20\n",
      "\u001b[1m9091/9091\u001b[0m \u001b[32m━━━━━━━━━━━━━━━━━━━━\u001b[0m\u001b[37m\u001b[0m \u001b[1m153s\u001b[0m 17ms/step - accuracy: 0.9566 - loss: 0.2064 - val_accuracy: 0.9591 - val_loss: 0.2018\n",
      "Epoch 6/20\n",
      "\u001b[1m9091/9091\u001b[0m \u001b[32m━━━━━━━━━━━━━━━━━━━━\u001b[0m\u001b[37m\u001b[0m \u001b[1m171s\u001b[0m 19ms/step - accuracy: 0.9566 - loss: 0.2013 - val_accuracy: 0.9542 - val_loss: 0.2377\n",
      "Epoch 7/20\n",
      "\u001b[1m9091/9091\u001b[0m \u001b[32m━━━━━━━━━━━━━━━━━━━━\u001b[0m\u001b[37m\u001b[0m \u001b[1m178s\u001b[0m 20ms/step - accuracy: 0.9572 - loss: 0.2011 - val_accuracy: 0.9537 - val_loss: 0.2107\n",
      "Epoch 8/20\n",
      "\u001b[1m9091/9091\u001b[0m \u001b[32m━━━━━━━━━━━━━━━━━━━━\u001b[0m\u001b[37m\u001b[0m \u001b[1m181s\u001b[0m 20ms/step - accuracy: 0.9574 - loss: 0.1941 - val_accuracy: 0.9579 - val_loss: 0.1800\n",
      "Epoch 9/20\n",
      "\u001b[1m9091/9091\u001b[0m \u001b[32m━━━━━━━━━━━━━━━━━━━━\u001b[0m\u001b[37m\u001b[0m \u001b[1m0s\u001b[0m 20ms/step - accuracy: 0.9566 - loss: 0.1913"
     ]
    }
   ],
   "source": [
    "# train the model\n",
    "print(\"----- <Training Model> -----\")\n",
    "history = model.fit(encoded_training_data, training_labels, epochs=epochs, batch_size=batch_size, \n",
    "                    validation_data=(encoded_validation_data, validation_labels))\n",
    "print(\"----- <Model Trained Successfully> -----\\n\")"
   ]
  },
  {
   "cell_type": "markdown",
   "metadata": {},
   "source": [
    "#### Plots and Evaluation"
   ]
  },
  {
   "cell_type": "code",
   "execution_count": null,
   "metadata": {},
   "outputs": [
    {
     "data": {
      "image/png": "[encoded data removed]",
      "text/plain": [
       "<Figure size 1200x600 with 2 Axes>"
      ]
     },
     "metadata": {},
     "output_type": "display_data"
    }
   ],
   "source": [
    "# plotting training and validation accuracy and loss\n",
    "plt.figure(figsize=(12, 6))\n",
    "\n",
    "plt.subplot(1, 2, 1)\n",
    "plt.plot(history.history['accuracy'], label='Train Accuracy')\n",
    "plt.plot(history.history['val_accuracy'], label='Validation Accuracy')\n",
    "plt.axis(ymin=0.4, ymax=1)\n",
    "plt.title('Model Accuracy')\n",
    "plt.ylabel('Accuracy')\n",
    "plt.xlabel('Epochs')\n",
    "plt.legend(['Train_Accuracy', 'Validation_Accuracy'])\n",
    "plt.tight_layout()\n",
    "plt.grid()\n",
    "\n",
    "# plotting loss\n",
    "plt.subplot(1, 2, 2)\n",
    "plt.plot(history.history['loss'], label='Train Loss')\n",
    "plt.plot(history.history['val_loss'], label='Validation Loss')\n",
    "plt.title('Model Loss')\n",
    "plt.ylabel('Loss')\n",
    "plt.xlabel('Epochs')\n",
    "plt.legend(['Train_Loss', 'Validation_Loss'])\n",
    "plt.tight_layout()\n",
    "plt.grid()\n",
    "\n",
    "plt.show()"
   ]
  },
  {
   "cell_type": "code",
   "execution_count": null,
   "metadata": {},
   "outputs": [],
   "source": [
    "# evaluate the model\n",
    "\n",
    "# parameters\n",
    "testing_file_path = '../datasets/testing/test_set_1_1_CLASH2013_paper.tsv'\n",
    "\n",
    "# load the testing dataset\n",
    "print(\"----- <Loading Testing Dataset> -----\")\n",
    "df_test = pd.read_csv(testing_file_path, sep='\\t')\n",
    "print(\"----- <Dataset Loaded Successfully> -----\\n\")\n",
    "\n",
    "# print the dataset shape and first few rows\n",
    "print(f\"Testing Dataset shape: {df_test.shape}\")\n",
    "print(f\"First few rows of the dataset:\\n{df_test.head()}\\n\")\n",
    "\n",
    "# encode the testing data\n",
    "print(\"----- <Encoding Data> -----\")\n",
    "encoded_testing_data, testing_labels = encode_dataset(df_test, \"miRNA\")         # encode_dataset(df_test, \"noncodingRNA\")\n",
    "print(\"----- <Testing Data Encoded Successfully> -----\")\n",
    "print(\"----- <Successfully Encoded Data> -----\\n\")\n",
    "\n",
    "print(\"----- <Evaluating Model> -----\")\n",
    "test_loss, test_accuracy = model.evaluate(encoded_testing_data, testing_labels)\n",
    "\n",
    "# get predictions\n",
    "predictions = model.predict(encoded_testing_data)\n",
    "roc_auc = roc_auc_score(testing_labels, predictions)\n",
    "print(\"----- <Model Evaluated Successfully> -----\\n\")\n",
    "\n",
    "# display results\n",
    "print(f\"Test loss: {round(test_loss, 4)}\\nTest accuracy: {round(test_accuracy, 4)} - {round(test_accuracy, 4) * 100}%\")\n",
    "print(f\"Area Under Curve: {round(roc_auc, 4)}\")\n"
   ]
  },
  {
   "cell_type": "markdown",
   "metadata": {},
   "source": [
    "#### Saving Model"
   ]
  },
  {
   "cell_type": "code",
   "execution_count": null,
   "metadata": {},
   "outputs": [],
   "source": [
    "# save the model\n",
    "print(\"----- <Saving Model> -----\")\n",
    "model.save(\"miRBind_ResNet.keras\")\n",
    "print(\"----- <Model Saved Successfully> -----\\n\")"
   ]
  }
 ],
 "metadata": {
  "kernelspec": {
   "display_name": ".venv",
   "language": "python",
   "name": "python3"
  },
  "language_info": {
   "codemirror_mode": {
    "name": "ipython",
    "version": 3
   },
   "file_extension": ".py",
   "mimetype": "text/x-python",
   "name": "python",
   "nbconvert_exporter": "python",
   "pygments_lexer": "ipython3",
   "version": "3.12.3"
  }
 },
 "nbformat": 4,
 "nbformat_minor": 2
}
