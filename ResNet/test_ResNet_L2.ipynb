{
 "cells": [
  {
   "cell_type": "code",
   "execution_count": null,
   "metadata": {},
   "outputs": [
    {
     "name": "stderr",
     "output_type": "stream",
     "text": [
      "2024-12-06 23:49:37.452178: E external/local_xla/xla/stream_executor/cuda/cuda_fft.cc:477] Unable to register cuFFT factory: Attempting to register factory for plugin cuFFT when one has already been registered\n",
      "WARNING: All log messages before absl::InitializeLog() is called are written to STDERR\n",
      "E0000 00:00:1733525377.562328    2860 cuda_dnn.cc:8310] Unable to register cuDNN factory: Attempting to register factory for plugin cuDNN when one has already been registered\n",
      "E0000 00:00:1733525377.594713    2860 cuda_blas.cc:1418] Unable to register cuBLAS factory: Attempting to register factory for plugin cuBLAS when one has already been registered\n"
     ]
    }
   ],
   "source": [
    "import sys\n",
    "sys.path.append('../')\n",
    "\n",
    "# imports\n",
    "import pandas as pd\n",
    "import matplotlib.pyplot as plt\n",
    "from tensorflow import keras as k\n",
    "from tensorflow.keras import layers, models\n",
    "from tensorflow.keras.utils import register_keras_serializable\n",
    "from tensorflow.keras.optimizers import Adam\n",
    "from tensorflow.keras.regularizers import L2\n",
    "from sklearn.model_selection import train_test_split\n",
    "from sklearn.metrics import roc_auc_score, roc_curve\n",
    "from encoder.binding_2D_matrix_encoder import binding_encoding\n",
    "# from miRBench.encoder import miRBindEncoder\n",
    "\n",
    "\n",
    "\n",
    "# parameters\n",
    "training_file_path = '../datasets/training/train_set_1_20_CLASH2013_paper.tsv'\n",
    "\n",
    "alphabet = {\"AT\": 1., \"TA\": 1., \"GC\": 1., \"CG\": 1., \"AU\": 1., \"UA\": 1.}\n",
    "input_shape = (50, 20, 1)  # shape of the input image\n",
    "learning_rate = 0.001  # learning rate\n",
    "epochs = 20  # number of epochs/dataset iterations\n",
    "batch_size = 32  # batch size\n",
    "reg_factor = 0.005  # regularization factor\n",
    "dropout_rate = 0.4  # dropout rate"
   ]
  },
  {
   "cell_type": "markdown",
   "metadata": {},
   "source": [
    "#### ResBlock Class and Building ResNet function"
   ]
  },
  {
   "cell_type": "code",
   "execution_count": 10,
   "metadata": {},
   "outputs": [],
   "source": [
    "# defining a custom Keras layer which inturn implements a residual block\n",
    "@register_keras_serializable()\n",
    "class ResBlock(layers.Layer):\n",
    "    \"\"\"\n",
    "    Defines a Residual block based on the original ResNet paper.\n",
    "    The block either maintains the input dimensions or downsamples based on the specified parameters.\n",
    "    \"\"\"\n",
    "\n",
    "    def __init__(self, downsample=False, filters=16, kernel_size=3):\n",
    "        \"\"\"\n",
    "        Initializes the residual block with optional downsampling.\n",
    "        \n",
    "        Parameters:\n",
    "        - downsample: Boolean, whether to downsample the input (using stride of 2)\n",
    "        - filters: Number of filters for the Conv2D layers\n",
    "        - kernel_size: Size of the convolution kernel\n",
    "        \"\"\"\n",
    "        # calling the parent class constructor\n",
    "        super(ResBlock, self).__init__()\n",
    "\n",
    "        # parameters for the residual block\n",
    "        self.downsample = downsample\n",
    "        self.filters = filters\n",
    "        self.kernel_size = kernel_size\n",
    "\n",
    "        # initialize first convolution layer, with stride 1 or 2 depending on downsampling\n",
    "        self.conv1 = layers.Conv2D(kernel_size=self.kernel_size,\n",
    "                                   strides=(1 if not self.downsample else 2),\n",
    "                                   filters=self.filters,\n",
    "                                   padding=\"same\",\n",
    "                                   kernel_regularizer=L2(reg_factor))\n",
    "        self.activation1 = layers.ReLU()  # activation function after first convolution\n",
    "        self.batch_norm1 = layers.BatchNormalization()  # batch normalization after first convolution\n",
    "        \n",
    "        # initialize second convolution layer with stride 1 (no downsampling here)\n",
    "        self.conv2 = layers.Conv2D(kernel_size=self.kernel_size,\n",
    "                                   strides=1,\n",
    "                                   filters=self.filters,\n",
    "                                   padding=\"same\",\n",
    "                                   kernel_regularizer=L2(reg_factor))\n",
    "\n",
    "        # third convolution if downsampling is needed to match input dimensions\n",
    "        if self.downsample:\n",
    "          self.conv3 = layers.Conv2D(kernel_size=1,\n",
    "                                     strides=2,\n",
    "                                     filters=self.filters,\n",
    "                                     padding=\"same\",\n",
    "                                     kernel_regularizer=L2(reg_factor))\n",
    "\n",
    "        self.activation2 = layers.ReLU()  # activation after second convolution\n",
    "        self.batch_norm2 = layers.BatchNormalization()  # batch normalization after second convolution\n",
    "\n",
    "    def call(self, inputs):\n",
    "        \"\"\"\n",
    "        Forward pass for the residual block. Applies the convolutions, activation, and adds the skip connection.\n",
    "\n",
    "        Parameters:\n",
    "        - inputs: Input tensor\n",
    "\n",
    "        Returns:\n",
    "        - Tensor after applying the residual block transformation\n",
    "        \"\"\"\n",
    "        # first convolution, activation, and batch normalization\n",
    "        x = self.conv1(inputs)\n",
    "        x = self.activation1(x)\n",
    "        x = self.batch_norm1(x)\n",
    "        \n",
    "        # second convolution (no downsampling here)\n",
    "        x = self.conv2(x)\n",
    "\n",
    "        # adjust input dimensions if downsampling\n",
    "        if self.downsample:\n",
    "            inputs = self.conv3(inputs)\n",
    "\n",
    "        # add the input (skip connection) to the output of the convolutions\n",
    "        x = layers.Add()([inputs, x])\n",
    "\n",
    "        # final activation and batch normalization\n",
    "        x = self.activation2(x)\n",
    "        x = self.batch_norm2(x)\n",
    "\n",
    "        return x\n",
    "\n",
    "    def get_config(self):\n",
    "        \"\"\"\n",
    "        Returns the configuration of the residual block (required for saving and loading the model).\n",
    "        \"\"\"\n",
    "        return {'filters': self.filters, 'downsample': self.downsample, 'kernel_size': self.kernel_size}\n",
    "    \n",
    "# define the ResNet model\n",
    "def build_resnet(input_shape):\n",
    "    \"\"\"\n",
    "    Builds a simple ResNet model using custom residual blocks.\n",
    "    \"\"\"\n",
    "    inputs = layers.Input(shape=input_shape)\n",
    "\n",
    "    # initial Conv Layer\n",
    "    x = layers.Conv2D(64, kernel_size=(3, 3), padding='same', kernel_regularizer=L2(reg_factor))(inputs)\n",
    "    x = layers.ReLU()(x)\n",
    "    x = layers.BatchNormalization()(x)\n",
    "\n",
    "    # add ResBlocks\n",
    "    x = ResBlock(filters=64, downsample=False)(x)\n",
    "    x = ResBlock(filters=64, downsample=False)(x)\n",
    "\n",
    "    # flatten and add dense layers\n",
    "    x = layers.Flatten()(x)\n",
    "    x = layers.Dense(512, activation='relu', kernel_regularizer=L2(reg_factor))(x)\n",
    "    x = layers.Dropout(dropout_rate)(x)  # Dropout layer\n",
    "    x = layers.Dense(1, activation='sigmoid', kernel_regularizer=L2(reg_factor))(x)  # binary classification (0 or 1)\n",
    "\n",
    "    # build model\n",
    "    model = models.Model(inputs, x)\n",
    "    # compile the model\n",
    "    model.compile(optimizer=Adam(learning_rate=learning_rate), loss='binary_crossentropy',metrics=['accuracy'])\n",
    "    # output model summary\n",
    "    model.summary()\n",
    "    \n",
    "    return model"
   ]
  },
  {
   "cell_type": "markdown",
   "metadata": {},
   "source": [
    "#### Data Encoding and Building Model"
   ]
  },
  {
   "cell_type": "code",
   "execution_count": null,
   "metadata": {},
   "outputs": [
    {
     "name": "stdout",
     "output_type": "stream",
     "text": [
      "----- <Loading Training Dataset> -----\n",
      "----- <Dataset Loaded Successfully> -----\n",
      "\n",
      "Training Dataset shape: (323232, 3)\n",
      "First few rows of the dataset:\n",
      "                  miRNA                                               gene  \\\n",
      "0  TGTAAACATCCTCGACTGGA  GTCGAGAAGTCAACGACTCAATGAAGAATTCCACTTATGGCGTGAA...   \n",
      "1  TGAGACCTCTGGGTTCTGAG  GACCTCAGAGCTCCAGGATCATCAGTAAATTTGTCATGTTATATAT...   \n",
      "2  GAGGGTTGGGTGGAGGCTCT  TGCCATAATGAACCGTCCAGCCCCTGTGGAGATCTCCTATGAGAAC...   \n",
      "3  CAAAGTGCTTACAGTGCAGG  CACCAGAATTGCCAAAGCACATATATAATAAATTAGATAAAGGGCA...   \n",
      "4  TTAGGGCCCTGGCTCCATCT  AGCCAAGTGGAGAAGGGTTCCTATCCCTGGCAGGTATCTCTGAAAC...   \n",
      "\n",
      "   label  \n",
      "0      1  \n",
      "1      1  \n",
      "2      1  \n",
      "3      1  \n",
      "4      1  \n",
      "\n",
      "Size of training set: 258585\n",
      "Size of validation set: 64647\n",
      "\n",
      "----- <Encoding Data> -----\n",
      "----- <Training Data Encoded Successfully> -----\n",
      "----- <Validation Data Encoded Successfully> -----\n",
      "----- <Successfully Encoded Data> -----\n",
      "\n",
      "----- <Building Model> -----\n"
     ]
    },
    {
     "data": {
      "text/html": [
       "<pre style=\"white-space:pre;overflow-x:auto;line-height:normal;font-family:Menlo,'DejaVu Sans Mono',consolas,'Courier New',monospace\"><span style=\"font-weight: bold\">Model: \"functional_1\"</span>\n",
       "</pre>\n"
      ],
      "text/plain": [
       "\u001b[1mModel: \"functional_1\"\u001b[0m\n"
      ]
     },
     "metadata": {},
     "output_type": "display_data"
    },
    {
     "data": {
      "text/html": [
       "<pre style=\"white-space:pre;overflow-x:auto;line-height:normal;font-family:Menlo,'DejaVu Sans Mono',consolas,'Courier New',monospace\">┏━━━━━━━━━━━━━━━━━━━━━━━━━━━━━━━━━┳━━━━━━━━━━━━━━━━━━━━━━━━┳━━━━━━━━━━━━━━━┓\n",
       "┃<span style=\"font-weight: bold\"> Layer (type)                    </span>┃<span style=\"font-weight: bold\"> Output Shape           </span>┃<span style=\"font-weight: bold\">       Param # </span>┃\n",
       "┡━━━━━━━━━━━━━━━━━━━━━━━━━━━━━━━━━╇━━━━━━━━━━━━━━━━━━━━━━━━╇━━━━━━━━━━━━━━━┩\n",
       "│ input_layer_1 (<span style=\"color: #0087ff; text-decoration-color: #0087ff\">InputLayer</span>)      │ (<span style=\"color: #00d7ff; text-decoration-color: #00d7ff\">None</span>, <span style=\"color: #00af00; text-decoration-color: #00af00\">50</span>, <span style=\"color: #00af00; text-decoration-color: #00af00\">20</span>, <span style=\"color: #00af00; text-decoration-color: #00af00\">1</span>)      │             <span style=\"color: #00af00; text-decoration-color: #00af00\">0</span> │\n",
       "├─────────────────────────────────┼────────────────────────┼───────────────┤\n",
       "│ conv2d_5 (<span style=\"color: #0087ff; text-decoration-color: #0087ff\">Conv2D</span>)               │ (<span style=\"color: #00d7ff; text-decoration-color: #00d7ff\">None</span>, <span style=\"color: #00af00; text-decoration-color: #00af00\">50</span>, <span style=\"color: #00af00; text-decoration-color: #00af00\">20</span>, <span style=\"color: #00af00; text-decoration-color: #00af00\">64</span>)     │           <span style=\"color: #00af00; text-decoration-color: #00af00\">640</span> │\n",
       "├─────────────────────────────────┼────────────────────────┼───────────────┤\n",
       "│ re_lu_5 (<span style=\"color: #0087ff; text-decoration-color: #0087ff\">ReLU</span>)                  │ (<span style=\"color: #00d7ff; text-decoration-color: #00d7ff\">None</span>, <span style=\"color: #00af00; text-decoration-color: #00af00\">50</span>, <span style=\"color: #00af00; text-decoration-color: #00af00\">20</span>, <span style=\"color: #00af00; text-decoration-color: #00af00\">64</span>)     │             <span style=\"color: #00af00; text-decoration-color: #00af00\">0</span> │\n",
       "├─────────────────────────────────┼────────────────────────┼───────────────┤\n",
       "│ batch_normalization_5           │ (<span style=\"color: #00d7ff; text-decoration-color: #00d7ff\">None</span>, <span style=\"color: #00af00; text-decoration-color: #00af00\">50</span>, <span style=\"color: #00af00; text-decoration-color: #00af00\">20</span>, <span style=\"color: #00af00; text-decoration-color: #00af00\">64</span>)     │           <span style=\"color: #00af00; text-decoration-color: #00af00\">256</span> │\n",
       "│ (<span style=\"color: #0087ff; text-decoration-color: #0087ff\">BatchNormalization</span>)            │                        │               │\n",
       "├─────────────────────────────────┼────────────────────────┼───────────────┤\n",
       "│ res_block_2 (<span style=\"color: #0087ff; text-decoration-color: #0087ff\">ResBlock</span>)          │ (<span style=\"color: #00d7ff; text-decoration-color: #00d7ff\">None</span>, <span style=\"color: #00af00; text-decoration-color: #00af00\">50</span>, <span style=\"color: #00af00; text-decoration-color: #00af00\">20</span>, <span style=\"color: #00af00; text-decoration-color: #00af00\">64</span>)     │        <span style=\"color: #00af00; text-decoration-color: #00af00\">74,368</span> │\n",
       "├─────────────────────────────────┼────────────────────────┼───────────────┤\n",
       "│ res_block_3 (<span style=\"color: #0087ff; text-decoration-color: #0087ff\">ResBlock</span>)          │ (<span style=\"color: #00d7ff; text-decoration-color: #00d7ff\">None</span>, <span style=\"color: #00af00; text-decoration-color: #00af00\">50</span>, <span style=\"color: #00af00; text-decoration-color: #00af00\">20</span>, <span style=\"color: #00af00; text-decoration-color: #00af00\">64</span>)     │        <span style=\"color: #00af00; text-decoration-color: #00af00\">74,368</span> │\n",
       "├─────────────────────────────────┼────────────────────────┼───────────────┤\n",
       "│ flatten_1 (<span style=\"color: #0087ff; text-decoration-color: #0087ff\">Flatten</span>)             │ (<span style=\"color: #00d7ff; text-decoration-color: #00d7ff\">None</span>, <span style=\"color: #00af00; text-decoration-color: #00af00\">64000</span>)          │             <span style=\"color: #00af00; text-decoration-color: #00af00\">0</span> │\n",
       "├─────────────────────────────────┼────────────────────────┼───────────────┤\n",
       "│ dense_2 (<span style=\"color: #0087ff; text-decoration-color: #0087ff\">Dense</span>)                 │ (<span style=\"color: #00d7ff; text-decoration-color: #00d7ff\">None</span>, <span style=\"color: #00af00; text-decoration-color: #00af00\">512</span>)            │    <span style=\"color: #00af00; text-decoration-color: #00af00\">32,768,512</span> │\n",
       "├─────────────────────────────────┼────────────────────────┼───────────────┤\n",
       "│ dropout_1 (<span style=\"color: #0087ff; text-decoration-color: #0087ff\">Dropout</span>)             │ (<span style=\"color: #00d7ff; text-decoration-color: #00d7ff\">None</span>, <span style=\"color: #00af00; text-decoration-color: #00af00\">512</span>)            │             <span style=\"color: #00af00; text-decoration-color: #00af00\">0</span> │\n",
       "├─────────────────────────────────┼────────────────────────┼───────────────┤\n",
       "│ dense_3 (<span style=\"color: #0087ff; text-decoration-color: #0087ff\">Dense</span>)                 │ (<span style=\"color: #00d7ff; text-decoration-color: #00d7ff\">None</span>, <span style=\"color: #00af00; text-decoration-color: #00af00\">1</span>)              │           <span style=\"color: #00af00; text-decoration-color: #00af00\">513</span> │\n",
       "└─────────────────────────────────┴────────────────────────┴───────────────┘\n",
       "</pre>\n"
      ],
      "text/plain": [
       "┏━━━━━━━━━━━━━━━━━━━━━━━━━━━━━━━━━┳━━━━━━━━━━━━━━━━━━━━━━━━┳━━━━━━━━━━━━━━━┓\n",
       "┃\u001b[1m \u001b[0m\u001b[1mLayer (type)                   \u001b[0m\u001b[1m \u001b[0m┃\u001b[1m \u001b[0m\u001b[1mOutput Shape          \u001b[0m\u001b[1m \u001b[0m┃\u001b[1m \u001b[0m\u001b[1m      Param #\u001b[0m\u001b[1m \u001b[0m┃\n",
       "┡━━━━━━━━━━━━━━━━━━━━━━━━━━━━━━━━━╇━━━━━━━━━━━━━━━━━━━━━━━━╇━━━━━━━━━━━━━━━┩\n",
       "│ input_layer_1 (\u001b[38;5;33mInputLayer\u001b[0m)      │ (\u001b[38;5;45mNone\u001b[0m, \u001b[38;5;34m50\u001b[0m, \u001b[38;5;34m20\u001b[0m, \u001b[38;5;34m1\u001b[0m)      │             \u001b[38;5;34m0\u001b[0m │\n",
       "├─────────────────────────────────┼────────────────────────┼───────────────┤\n",
       "│ conv2d_5 (\u001b[38;5;33mConv2D\u001b[0m)               │ (\u001b[38;5;45mNone\u001b[0m, \u001b[38;5;34m50\u001b[0m, \u001b[38;5;34m20\u001b[0m, \u001b[38;5;34m64\u001b[0m)     │           \u001b[38;5;34m640\u001b[0m │\n",
       "├─────────────────────────────────┼────────────────────────┼───────────────┤\n",
       "│ re_lu_5 (\u001b[38;5;33mReLU\u001b[0m)                  │ (\u001b[38;5;45mNone\u001b[0m, \u001b[38;5;34m50\u001b[0m, \u001b[38;5;34m20\u001b[0m, \u001b[38;5;34m64\u001b[0m)     │             \u001b[38;5;34m0\u001b[0m │\n",
       "├─────────────────────────────────┼────────────────────────┼───────────────┤\n",
       "│ batch_normalization_5           │ (\u001b[38;5;45mNone\u001b[0m, \u001b[38;5;34m50\u001b[0m, \u001b[38;5;34m20\u001b[0m, \u001b[38;5;34m64\u001b[0m)     │           \u001b[38;5;34m256\u001b[0m │\n",
       "│ (\u001b[38;5;33mBatchNormalization\u001b[0m)            │                        │               │\n",
       "├─────────────────────────────────┼────────────────────────┼───────────────┤\n",
       "│ res_block_2 (\u001b[38;5;33mResBlock\u001b[0m)          │ (\u001b[38;5;45mNone\u001b[0m, \u001b[38;5;34m50\u001b[0m, \u001b[38;5;34m20\u001b[0m, \u001b[38;5;34m64\u001b[0m)     │        \u001b[38;5;34m74,368\u001b[0m │\n",
       "├─────────────────────────────────┼────────────────────────┼───────────────┤\n",
       "│ res_block_3 (\u001b[38;5;33mResBlock\u001b[0m)          │ (\u001b[38;5;45mNone\u001b[0m, \u001b[38;5;34m50\u001b[0m, \u001b[38;5;34m20\u001b[0m, \u001b[38;5;34m64\u001b[0m)     │        \u001b[38;5;34m74,368\u001b[0m │\n",
       "├─────────────────────────────────┼────────────────────────┼───────────────┤\n",
       "│ flatten_1 (\u001b[38;5;33mFlatten\u001b[0m)             │ (\u001b[38;5;45mNone\u001b[0m, \u001b[38;5;34m64000\u001b[0m)          │             \u001b[38;5;34m0\u001b[0m │\n",
       "├─────────────────────────────────┼────────────────────────┼───────────────┤\n",
       "│ dense_2 (\u001b[38;5;33mDense\u001b[0m)                 │ (\u001b[38;5;45mNone\u001b[0m, \u001b[38;5;34m512\u001b[0m)            │    \u001b[38;5;34m32,768,512\u001b[0m │\n",
       "├─────────────────────────────────┼────────────────────────┼───────────────┤\n",
       "│ dropout_1 (\u001b[38;5;33mDropout\u001b[0m)             │ (\u001b[38;5;45mNone\u001b[0m, \u001b[38;5;34m512\u001b[0m)            │             \u001b[38;5;34m0\u001b[0m │\n",
       "├─────────────────────────────────┼────────────────────────┼───────────────┤\n",
       "│ dense_3 (\u001b[38;5;33mDense\u001b[0m)                 │ (\u001b[38;5;45mNone\u001b[0m, \u001b[38;5;34m1\u001b[0m)              │           \u001b[38;5;34m513\u001b[0m │\n",
       "└─────────────────────────────────┴────────────────────────┴───────────────┘\n"
      ]
     },
     "metadata": {},
     "output_type": "display_data"
    },
    {
     "data": {
      "text/html": [
       "<pre style=\"white-space:pre;overflow-x:auto;line-height:normal;font-family:Menlo,'DejaVu Sans Mono',consolas,'Courier New',monospace\"><span style=\"font-weight: bold\"> Total params: </span><span style=\"color: #00af00; text-decoration-color: #00af00\">32,918,657</span> (125.57 MB)\n",
       "</pre>\n"
      ],
      "text/plain": [
       "\u001b[1m Total params: \u001b[0m\u001b[38;5;34m32,918,657\u001b[0m (125.57 MB)\n"
      ]
     },
     "metadata": {},
     "output_type": "display_data"
    },
    {
     "data": {
      "text/html": [
       "<pre style=\"white-space:pre;overflow-x:auto;line-height:normal;font-family:Menlo,'DejaVu Sans Mono',consolas,'Courier New',monospace\"><span style=\"font-weight: bold\"> Trainable params: </span><span style=\"color: #00af00; text-decoration-color: #00af00\">32,918,017</span> (125.57 MB)\n",
       "</pre>\n"
      ],
      "text/plain": [
       "\u001b[1m Trainable params: \u001b[0m\u001b[38;5;34m32,918,017\u001b[0m (125.57 MB)\n"
      ]
     },
     "metadata": {},
     "output_type": "display_data"
    },
    {
     "data": {
      "text/html": [
       "<pre style=\"white-space:pre;overflow-x:auto;line-height:normal;font-family:Menlo,'DejaVu Sans Mono',consolas,'Courier New',monospace\"><span style=\"font-weight: bold\"> Non-trainable params: </span><span style=\"color: #00af00; text-decoration-color: #00af00\">640</span> (2.50 KB)\n",
       "</pre>\n"
      ],
      "text/plain": [
       "\u001b[1m Non-trainable params: \u001b[0m\u001b[38;5;34m640\u001b[0m (2.50 KB)\n"
      ]
     },
     "metadata": {},
     "output_type": "display_data"
    },
    {
     "name": "stdout",
     "output_type": "stream",
     "text": [
      "----- <Model Built Successfully> -----\n",
      "\n"
     ]
    }
   ],
   "source": [
    "# encode the data using your binding_2D_matrix_encoder's binding_encoding function\n",
    "def encode_dataset(data, rna_type):\n",
    "    # use the function from the binding_2D_matrix_encoder module\n",
    "    return binding_encoding(data, rna_type, alphabet=alphabet)\n",
    "\n",
    "# load the training dataset\n",
    "print(\"----- <Loading Training Dataset> -----\")\n",
    "df_train = pd.read_csv(training_file_path, sep='\\t')\n",
    "print(\"----- <Dataset Loaded Successfully> -----\\n\")\n",
    "\n",
    "# print the dataset shape and first few rows\n",
    "print(f\"Training Dataset shape: {df_train.shape}\")\n",
    "print(f\"First few rows of the dataset:\\n{df_train.head()}\\n\")\n",
    "\n",
    "# Split df_train into actual training and validation sets\n",
    "training_data, test_data = train_test_split(df_train, test_size=0.1, random_state=42)\n",
    "print(f\"Size of training set: {len(training_data)}\")\n",
    "\n",
    "print(\"----- <Encoding Data> -----\")\n",
    "encoded_training_data, training_labels = encode_dataset(training_data, \"miRNA\")\n",
    "print(\"----- <Successfully Encoded Data> -----\\n\")\n",
    "'''Displaying the encoded data'''\n",
    "# print(f\"Encoded training data shape: {encoded_training_data.shape}\")\n",
    "# print(f\"Encoded validation data shape: {encoded_validation_data.shape}\\n\")\n",
    "# print(f\"Encoded testing data shape: {encoded_testing_data.shape}\")\n",
    "# print(f\"First encoded training example:\\n{encoded_training_data[0]}\")\n",
    "# print(f\"First training label: {training_labels[0]}\\n\")\n",
    "# print(f\"First encoded testing example:\\n{encoded_testing_data[0]}\")\n",
    "\n",
    "# build the ResNet model\n",
    "input_shape = encoded_training_data.shape[1:]  # assuming the encoded data is 4D (samples, height, width, channels)\n",
    "print(\"----- <Building Model> -----\")\n",
    "model = build_resnet(input_shape)\n",
    "print(\"----- <Model Built Successfully> -----\\n\")"
   ]
  },
  {
   "cell_type": "markdown",
   "metadata": {},
   "source": [
    "#### Training Model"
   ]
  },
  {
   "cell_type": "code",
   "execution_count": null,
   "metadata": {},
   "outputs": [
    {
     "name": "stdout",
     "output_type": "stream",
     "text": [
      "----- <Training Model> -----\n",
      "Epoch 1/20\n",
      "\u001b[1m8081/8081\u001b[0m \u001b[32m━━━━━━━━━━━━━━━━━━━━\u001b[0m\u001b[37m\u001b[0m \u001b[1m115s\u001b[0m 14ms/step - accuracy: 0.9487 - loss: 1.6199 - val_accuracy: 0.9544 - val_loss: 0.2473\n",
      "Epoch 2/20\n",
      "\u001b[1m8081/8081\u001b[0m \u001b[32m━━━━━━━━━━━━━━━━━━━━\u001b[0m\u001b[37m\u001b[0m \u001b[1m109s\u001b[0m 14ms/step - accuracy: 0.9553 - loss: 0.2274 - val_accuracy: 0.9533 - val_loss: 0.2054\n",
      "Epoch 3/20\n",
      "\u001b[1m8081/8081\u001b[0m \u001b[32m━━━━━━━━━━━━━━━━━━━━\u001b[0m\u001b[37m\u001b[0m \u001b[1m110s\u001b[0m 14ms/step - accuracy: 0.9565 - loss: 0.1974 - val_accuracy: 0.9595 - val_loss: 0.1911\n",
      "Epoch 4/20\n",
      "\u001b[1m8081/8081\u001b[0m \u001b[32m━━━━━━━━━━━━━━━━━━━━\u001b[0m\u001b[37m\u001b[0m \u001b[1m110s\u001b[0m 14ms/step - accuracy: 0.9576 - loss: 0.1889 - val_accuracy: 0.9546 - val_loss: 0.2127\n",
      "Epoch 5/20\n",
      "\u001b[1m8081/8081\u001b[0m \u001b[32m━━━━━━━━━━━━━━━━━━━━\u001b[0m\u001b[37m\u001b[0m \u001b[1m111s\u001b[0m 14ms/step - accuracy: 0.9579 - loss: 0.1892 - val_accuracy: 0.9572 - val_loss: 0.2130\n",
      "Epoch 6/20\n",
      "\u001b[1m8081/8081\u001b[0m \u001b[32m━━━━━━━━━━━━━━━━━━━━\u001b[0m\u001b[37m\u001b[0m \u001b[1m110s\u001b[0m 14ms/step - accuracy: 0.9586 - loss: 0.1833 - val_accuracy: 0.9591 - val_loss: 0.1853\n",
      "Epoch 7/20\n",
      "\u001b[1m8081/8081\u001b[0m \u001b[32m━━━━━━━━━━━━━━━━━━━━\u001b[0m\u001b[37m\u001b[0m \u001b[1m111s\u001b[0m 14ms/step - accuracy: 0.9590 - loss: 0.1802 - val_accuracy: 0.9616 - val_loss: 0.1697\n",
      "Epoch 8/20\n",
      "\u001b[1m8081/8081\u001b[0m \u001b[32m━━━━━━━━━━━━━━━━━━━━\u001b[0m\u001b[37m\u001b[0m \u001b[1m111s\u001b[0m 14ms/step - accuracy: 0.9587 - loss: 0.1769 - val_accuracy: 0.9585 - val_loss: 0.1792\n",
      "Epoch 9/20\n",
      "\u001b[1m8081/8081\u001b[0m \u001b[32m━━━━━━━━━━━━━━━━━━━━\u001b[0m\u001b[37m\u001b[0m \u001b[1m111s\u001b[0m 14ms/step - accuracy: 0.9592 - loss: 0.1749 - val_accuracy: 0.9588 - val_loss: 0.1728\n",
      "Epoch 10/20\n",
      "\u001b[1m8081/8081\u001b[0m \u001b[32m━━━━━━━━━━━━━━━━━━━━\u001b[0m\u001b[37m\u001b[0m \u001b[1m141s\u001b[0m 14ms/step - accuracy: 0.9598 - loss: 0.1714 - val_accuracy: 0.9597 - val_loss: 0.1741\n",
      "Epoch 11/20\n",
      "\u001b[1m8081/8081\u001b[0m \u001b[32m━━━━━━━━━━━━━━━━━━━━\u001b[0m\u001b[37m\u001b[0m \u001b[1m111s\u001b[0m 14ms/step - accuracy: 0.9592 - loss: 0.1736 - val_accuracy: 0.9626 - val_loss: 0.1663\n",
      "Epoch 12/20\n",
      "\u001b[1m8081/8081\u001b[0m \u001b[32m━━━━━━━━━━━━━━━━━━━━\u001b[0m\u001b[37m\u001b[0m \u001b[1m110s\u001b[0m 14ms/step - accuracy: 0.9595 - loss: 0.1717 - val_accuracy: 0.9408 - val_loss: 0.2267\n",
      "Epoch 13/20\n",
      "\u001b[1m8081/8081\u001b[0m \u001b[32m━━━━━━━━━━━━━━━━━━━━\u001b[0m\u001b[37m\u001b[0m \u001b[1m111s\u001b[0m 14ms/step - accuracy: 0.9592 - loss: 0.1716 - val_accuracy: 0.9623 - val_loss: 0.1825\n",
      "Epoch 14/20\n",
      "\u001b[1m8081/8081\u001b[0m \u001b[32m━━━━━━━━━━━━━━━━━━━━\u001b[0m\u001b[37m\u001b[0m \u001b[1m111s\u001b[0m 14ms/step - accuracy: 0.9597 - loss: 0.1718 - val_accuracy: 0.9600 - val_loss: 0.1641\n",
      "Epoch 15/20\n",
      "\u001b[1m8081/8081\u001b[0m \u001b[32m━━━━━━━━━━━━━━━━━━━━\u001b[0m\u001b[37m\u001b[0m \u001b[1m111s\u001b[0m 14ms/step - accuracy: 0.9595 - loss: 0.1709 - val_accuracy: 0.9605 - val_loss: 0.1690\n",
      "Epoch 16/20\n",
      "\u001b[1m8081/8081\u001b[0m \u001b[32m━━━━━━━━━━━━━━━━━━━━\u001b[0m\u001b[37m\u001b[0m \u001b[1m111s\u001b[0m 14ms/step - accuracy: 0.9592 - loss: 0.1720 - val_accuracy: 0.9613 - val_loss: 0.1624\n",
      "Epoch 17/20\n",
      "\u001b[1m8081/8081\u001b[0m \u001b[32m━━━━━━━━━━━━━━━━━━━━\u001b[0m\u001b[37m\u001b[0m \u001b[1m111s\u001b[0m 14ms/step - accuracy: 0.9598 - loss: 0.1715 - val_accuracy: 0.9513 - val_loss: 0.1939\n",
      "Epoch 18/20\n",
      "\u001b[1m8081/8081\u001b[0m \u001b[32m━━━━━━━━━━━━━━━━━━━━\u001b[0m\u001b[37m\u001b[0m \u001b[1m111s\u001b[0m 14ms/step - accuracy: 0.9595 - loss: 0.1711 - val_accuracy: 0.9574 - val_loss: 0.1797\n",
      "Epoch 19/20\n",
      "\u001b[1m8081/8081\u001b[0m \u001b[32m━━━━━━━━━━━━━━━━━━━━\u001b[0m\u001b[37m\u001b[0m \u001b[1m110s\u001b[0m 14ms/step - accuracy: 0.9590 - loss: 0.1712 - val_accuracy: 0.9567 - val_loss: 0.1923\n",
      "Epoch 20/20\n",
      "\u001b[1m8081/8081\u001b[0m \u001b[32m━━━━━━━━━━━━━━━━━━━━\u001b[0m\u001b[37m\u001b[0m \u001b[1m111s\u001b[0m 14ms/step - accuracy: 0.9599 - loss: 0.1689 - val_accuracy: 0.9622 - val_loss: 0.1647\n",
      "----- <Model Trained Successfully> -----\n",
      "\n"
     ]
    }
   ],
   "source": [
    "# train the model\n",
    "print(\"----- <Training Model> -----\")\n",
    "history = model.fit(encoded_training_data, training_labels, epochs=epochs, batch_size=batch_size, validation_split=0.1, verbose=1)\n",
    "print(\"----- <Model Trained Successfully> -----\\n\")"
   ]
  },
  {
   "cell_type": "markdown",
   "metadata": {},
   "source": [
    "#### Plots and Evaluation"
   ]
  },
  {
   "cell_type": "code",
   "execution_count": 13,
   "metadata": {},
   "outputs": [
    {
     "data": {
      "image/png": "[encoded data removed]",
      "text/plain": [
       "<Figure size 1200x600 with 2 Axes>"
      ]
     },
     "metadata": {},
     "output_type": "display_data"
    }
   ],
   "source": [
    "# plotting training and validation accuracy and loss\n",
    "plt.figure(figsize=(12, 6))\n",
    "\n",
    "plt.subplot(1, 2, 1)\n",
    "plt.plot(history.history['accuracy'], label='Train Accuracy')\n",
    "plt.plot(history.history['val_accuracy'], label='Validation Accuracy')\n",
    "plt.axis(ymin=0.4, ymax=1)\n",
    "plt.title('Model Accuracy')\n",
    "plt.ylabel('Accuracy')\n",
    "plt.xlabel('Epochs')\n",
    "plt.legend(['Train_Accuracy', 'Validation_Accuracy'])\n",
    "plt.tight_layout()\n",
    "plt.grid()\n",
    "\n",
    "# plotting loss\n",
    "plt.subplot(1, 2, 2)\n",
    "plt.plot(history.history['loss'], label='Train Loss')\n",
    "plt.plot(history.history['val_loss'], label='Validation Loss')\n",
    "plt.title('Model Loss')\n",
    "plt.ylabel('Loss')\n",
    "plt.xlabel('Epochs')\n",
    "plt.legend(['Train_Loss', 'Validation_Loss'])\n",
    "plt.tight_layout()\n",
    "plt.grid()\n",
    "\n",
    "plt.show()"
   ]
  },
  {
   "cell_type": "code",
   "execution_count": null,
   "metadata": {},
   "outputs": [
    {
     "name": "stdout",
     "output_type": "stream",
     "text": [
      "----- <Loading Testing Dataset> -----\n",
      "----- <Dataset Loaded Successfully> -----\n",
      "\n",
      "Testing Dataset shape: (202000, 3)\n",
      "First few rows of the dataset:\n",
      "                  miRNA                                               gene  \\\n",
      "0  TGAGGTAGTAGGTTGTATAG  ATGTCAACCTACCTACTTCTAAGCACAGGGTATGAAGCTCTCTTTC...   \n",
      "1  CAAAGTGCTTACAGTGCAGG  CTTTCCTGCACTGTAAGATCCTGGCAACATCTGCCCTGAACTTCAG...   \n",
      "2  TGTCTGCCCGCATGCCTGCC  AGCAGGTTTGTTGGCAGATGCTCGTTCTTTAGCAGACATAGCAAGA...   \n",
      "3  TATTGCACTTGTCCCGGCCT  ACGTGCAATAGGGTGGAAACCAAACTGCTCCATGCCGGGTTATTTA...   \n",
      "4  CAAAGTGCTGTTCGTGCAGG  CCTGCAGATTGATCTTGTGCTGCAATTCTACATCTAAAGTGATCCC...   \n",
      "\n",
      "   label  \n",
      "0      1  \n",
      "1      1  \n",
      "2      1  \n",
      "3      1  \n",
      "4      1  \n",
      "\n",
      "----- <Encoding Data> -----\n",
      "----- <Testing Data Encoded Successfully> -----\n",
      "----- <Successfully Encoded Data> -----\n",
      "\n",
      "----- <Evaluating Model> -----\n",
      "\u001b[1m6313/6313\u001b[0m \u001b[32m━━━━━━━━━━━━━━━━━━━━\u001b[0m\u001b[37m\u001b[0m \u001b[1m21s\u001b[0m 3ms/step - accuracy: 0.9540 - loss: 0.1916\n",
      "\u001b[1m6313/6313\u001b[0m \u001b[32m━━━━━━━━━━━━━━━━━━━━\u001b[0m\u001b[37m\u001b[0m \u001b[1m15s\u001b[0m 2ms/step\n",
      "----- <Model Evaluated Successfully> -----\n",
      "\n",
      "Test loss: 0.1068\n",
      "Test accuracy: 0.989 - 98.9%\n",
      "Area Under Curve: 0.8944\n"
     ]
    }
   ],
   "source": [
    "# evaluate the model\n",
    "\n",
    "print(\"Size of Testing Data: \", len(test_data))\n",
    "\n",
    "# encode the testing data\n",
    "print(\"----- <Encoding Data> -----\")\n",
    "encoded_testing_data, testing_labels = encode_dataset(test_data, \"miRNA\")         # encode_dataset(df_test, \"noncodingRNA\")\n",
    "print(\"----- <Successfully Encoded Data> -----\\n\")\n",
    "\n",
    "print(\"----- <Evaluating Model> -----\")\n",
    "test_loss, test_accuracy = model.evaluate(encoded_testing_data, testing_labels)\n",
    "\n",
    "# get predictions\n",
    "predictions = model.predict(encoded_testing_data)\n",
    "roc_auc = roc_auc_score(testing_labels, predictions)\n",
    "print(\"----- <Model Evaluated Successfully> -----\\n\")\n",
    "\n",
    "# display results\n",
    "print(f\"Test loss: {round(test_loss, 4)}\\nTest accuracy: {round(test_accuracy, 4)} - {round(test_accuracy, 4) * 100}%\")\n",
    "print(f\"Area Under Curve: {round(roc_auc, 4)}\")\n",
    "\n",
    "# Plot ROC-AUC curve\n",
    "fpr, tpr, thresholds = roc_curve(testing_labels, predictions)\n",
    "plt.figure(figsize=(8, 6))\n",
    "plt.plot(fpr, tpr, label=f\"ROC Curve (AUC = {roc_auc:.4f})\", linewidth=2)\n",
    "plt.plot([0, 1], [0, 1], 'k--', label=\"Random Guess\")\n",
    "plt.xlabel(\"False Positive Rate\")\n",
    "plt.ylabel(\"True Positive Rate\")\n",
    "plt.title(\"Receiver Operating Characteristic (ROC) Curve\")\n",
    "plt.legend(loc=\"lower right\")\n",
    "plt.grid(alpha=0.3)\n",
    "\n",
    "plt.show()"
   ]
  },
  {
   "cell_type": "markdown",
   "metadata": {},
   "source": [
    "#### Saving Model"
   ]
  },
  {
   "cell_type": "code",
   "execution_count": null,
   "metadata": {},
   "outputs": [],
   "source": [
    "# save the model\n",
    "print(\"----- <Saving Model> -----\")\n",
    "model.save(\"miRBind_ResNet.keras\")\n",
    "print(\"----- <Model Saved Successfully> -----\\n\")"
   ]
  }
 ],
 "metadata": {
  "kernelspec": {
   "display_name": ".venv",
   "language": "python",
   "name": "python3"
  },
  "language_info": {
   "codemirror_mode": {
    "name": "ipython",
    "version": 3
   },
   "file_extension": ".py",
   "mimetype": "text/x-python",
   "name": "python",
   "nbconvert_exporter": "python",
   "pygments_lexer": "ipython3",
   "version": "3.12.3"
  }
 },
 "nbformat": 4,
 "nbformat_minor": 2
}
